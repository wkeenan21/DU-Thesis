{
 "cells": [
  {
   "cell_type": "code",
   "execution_count": null,
   "metadata": {},
   "outputs": [],
   "source": [
    "import arcpy\n",
    "wkt = \"POLYGON((-105.78720025538905 40.28738870233486,-104.33151177882655 40.28738870233486,-104.33151177882655 39.261505727721186,-105.78720025538905 39.261505727721186,-105.78720025538905 40.28738870233486))\"\n",
    "sr = \n",
    "FromWKT(wkt, {spatial_reference})\n"
   ]
  }
 ],
 "metadata": {
  "kernelspec": {
   "display_name": "ArcGISPro",
   "language": "Python",
   "name": "python3"
  },
  "language_info": {
   "file_extension": ".py",
   "name": "python",
   "version": "3"
  }
 },
 "nbformat": 4,
 "nbformat_minor": 2
}
