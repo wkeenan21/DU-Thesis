{
 "cells": [
  {
   "cell_type": "code",
   "execution_count": 1,
   "metadata": {},
   "outputs": [],
   "source": [
    "import arcpy\n",
    "wkt = \"POLYGON((-105.78720025538905 40.28738870233486,-104.33151177882655 40.28738870233486,-104.33151177882655 39.261505727721186,-105.78720025538905 39.261505727721186,-105.78720025538905 40.28738870233486))\"\n",
    "sr = arcpy.SpatialReference(4326)\n",
    "thing = arcpy.FromWKT(wkt, sr)\n"
   ]
  },
  {
   "cell_type": "code",
   "execution_count": 3,
   "metadata": {},
   "outputs": [
    {
     "data": {
      "text/html": [
       "<div class='gpresult'><h2>Messages</h2><div id='messages' data-messages='[\"Start Time: Tuesday, January 31, 2023 12:32:26 PM\",\"Succeeded at Tuesday, January 31, 2023 12:32:26 PM (Elapsed Time: 0.10 seconds)\"]' data-show='true'><div id = 'default' /></div></div>"
      ],
      "text/plain": [
       "<Result 'C:\\\\Users\\\\willy\\\\Documents\\\\GitHub\\\\DU-Thesis\\\\Ozone\\\\gisData.shp'>"
      ]
     },
     "execution_count": 3,
     "metadata": {},
     "output_type": "execute_result"
    }
   ],
   "source": [
    "arcpy.management.CopyFeatures(thing, r\"C:\\Users\\willy\\Documents\\GitHub\\DU-Thesis\\Ozone\\gisData\")"
   ]
  },
  {
   "cell_type": "code",
   "execution_count": null,
   "metadata": {},
   "outputs": [],
   "source": []
  }
 ],
 "metadata": {
  "kernelspec": {
   "display_name": "ArcGISPro",
   "language": "Python",
   "name": "python3"
  },
  "language_info": {
   "file_extension": ".py",
   "name": "python",
   "version": "3"
  }
 },
 "nbformat": 4,
 "nbformat_minor": 2
}
